{
 "cells": [
  {
   "cell_type": "code",
   "execution_count": null,
   "metadata": {},
   "outputs": [],
   "source": [
    "import foldcomp\n",
    "# 01. Handling a FCZ file\n",
    "# Open a fcz file\n",
    "with open(\"test/compressed.fcz\", \"rb\") as fcz:\n",
    "  fcz_binary = fcz.read()\n",
    "\n",
    "  # Decompress\n",
    "  (name, pdb) = foldcomp.decompress(fcz_binary) # pdb_out[0]: file name, pdb_out[1]: pdb binary string\n",
    "\n",
    "  # Save to a pdb file\n",
    "  with open(name, \"w\") as pdb_file:\n",
    "    pdb_file.write(pdb)\n",
    "\n",
    "  # Get data as dictionary\n",
    "  data_dict = foldcomp.get_data(fcz_binary) # foldcomp.get_data(pdb) also works\n",
    "  # Keys: phi, psi, omega, torsion_angles, residues, bond_angles, coordinates\n",
    "  data_dict[\"phi\"] # phi angles (C-N-CA-C)\n",
    "  data_dict[\"psi\"] # psi angles (N-CA-C-N)\n",
    "  data_dict[\"omega\"] # omega angles (CA-C-N-CA)\n",
    "  data_dict[\"torsion_angles\"] # torsion angles of the backbone as list (phi + psi + omega)\n",
    "  data_dict[\"bond_angles\"] # bond angles of the backbone as list\n",
    "  data_dict[\"residues\"] # amino acid residues as string\n",
    "  data_dict[\"coordinates\"] # coordinates of the backbone as list\n",
    "\n",
    "# 02. Iterate over a database of FCZ files\n",
    "# Open a foldcomp database\n",
    "ids = [\"d1asha_\", \"d1it2a_\"]\n",
    "with foldcomp.open(\"test/example_db\", ids=ids) as db:\n",
    "  # Iterate through database\n",
    "  for (name, pdb) in db:\n",
    "      # save entries as seperate pdb files\n",
    "      with open(name + \".pdb\", \"w\") as pdb_file:\n",
    "        pdb_file.write(pdb)"
   ]
  }
 ],
 "metadata": {
  "kernelspec": {
   "display_name": "deepfri",
   "language": "python",
   "name": "python3"
  },
  "language_info": {
   "name": "python",
   "version": "3.7.9"
  },
  "orig_nbformat": 4
 },
 "nbformat": 4,
 "nbformat_minor": 2
}
