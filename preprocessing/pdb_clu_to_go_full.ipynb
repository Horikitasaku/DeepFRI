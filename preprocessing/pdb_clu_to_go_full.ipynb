{
 "cells": [
  {
   "cell_type": "code",
   "execution_count": null,
   "metadata": {
    "collapsed": true,
    "jupyter": {
     "outputs_hidden": true
    },
    "tags": []
   },
   "outputs": [],
   "source": [
    "!pip install pandas\n",
    "!pip install dask"
   ]
  },
  {
   "cell_type": "code",
   "execution_count": 2,
   "metadata": {
    "tags": []
   },
   "outputs": [
    {
     "name": "stdout",
     "output_type": "stream",
     "text": [
      "128\n"
     ]
    }
   ],
   "source": [
    "import pandas as pd\n",
    "import numpy as np\n",
    "import dask.dataframe as dd\n",
    "from dask.distributed import Client, LocalCluster\n",
    "import os\n",
    "# Create a local cluster\n",
    "# Get the number of physical cores\n",
    "n_cores = os.cpu_count()\n",
    "print(n_cores)\n",
    "# Create a local cluster with one worker per core\n",
    "cluster = LocalCluster(n_workers=int(n_cores/5), threads_per_worker=1, memory_limit='80GB')\n",
    "\n",
    "# Connect to the cluster\n",
    "client = Client(cluster)\n",
    "\n",
    "# Your code here\n",
    "\n",
    "import os\n",
    "import csv\n",
    "\n",
    "Count_GO = True\n",
    "E_filter = False\n",
    "root_terms = set(['GO:0008150', 'GO:0003674', 'GO:0005575'])"
   ]
  },
  {
   "attachments": {},
   "cell_type": "markdown",
   "metadata": {
    "tags": []
   },
   "source": [
    "## read-in result of MMseqs search"
   ]
  },
  {
   "cell_type": "code",
   "execution_count": 3,
   "metadata": {},
   "outputs": [
    {
     "data": {
      "text/html": [
       "<div>\n",
       "<style scoped>\n",
       "    .dataframe tbody tr th:only-of-type {\n",
       "        vertical-align: middle;\n",
       "    }\n",
       "\n",
       "    .dataframe tbody tr th {\n",
       "        vertical-align: top;\n",
       "    }\n",
       "\n",
       "    .dataframe thead th {\n",
       "        text-align: right;\n",
       "    }\n",
       "</style>\n",
       "<table border=\"1\" class=\"dataframe\">\n",
       "  <thead>\n",
       "    <tr style=\"text-align: right;\">\n",
       "      <th></th>\n",
       "      <th>EntryID</th>\n",
       "      <th>cluster</th>\n",
       "      <th>col3</th>\n",
       "      <th>col4</th>\n",
       "      <th>col5</th>\n",
       "      <th>col6</th>\n",
       "      <th>col7</th>\n",
       "      <th>col8</th>\n",
       "      <th>col9</th>\n",
       "      <th>col10</th>\n",
       "      <th>Evalue</th>\n",
       "      <th>bitscore</th>\n",
       "    </tr>\n",
       "  </thead>\n",
       "  <tbody>\n",
       "    <tr>\n",
       "      <th>0</th>\n",
       "      <td>Q6ENB0</td>\n",
       "      <td>7f9o_Q</td>\n",
       "      <td>0.931</td>\n",
       "      <td>735</td>\n",
       "      <td>50</td>\n",
       "      <td>0</td>\n",
       "      <td>1</td>\n",
       "      <td>730</td>\n",
       "      <td>43</td>\n",
       "      <td>777</td>\n",
       "      <td>0.000000e+00</td>\n",
       "      <td>1354</td>\n",
       "    </tr>\n",
       "    <tr>\n",
       "      <th>1</th>\n",
       "      <td>Q6ENB0</td>\n",
       "      <td>7eu3_F</td>\n",
       "      <td>0.931</td>\n",
       "      <td>735</td>\n",
       "      <td>50</td>\n",
       "      <td>0</td>\n",
       "      <td>1</td>\n",
       "      <td>730</td>\n",
       "      <td>43</td>\n",
       "      <td>777</td>\n",
       "      <td>0.000000e+00</td>\n",
       "      <td>1354</td>\n",
       "    </tr>\n",
       "    <tr>\n",
       "      <th>2</th>\n",
       "      <td>Q6ENB0</td>\n",
       "      <td>7wg5_F</td>\n",
       "      <td>0.685</td>\n",
       "      <td>735</td>\n",
       "      <td>229</td>\n",
       "      <td>0</td>\n",
       "      <td>1</td>\n",
       "      <td>729</td>\n",
       "      <td>1</td>\n",
       "      <td>735</td>\n",
       "      <td>1.666977e-320</td>\n",
       "      <td>990</td>\n",
       "    </tr>\n",
       "    <tr>\n",
       "      <th>3</th>\n",
       "      <td>Q6ENB0</td>\n",
       "      <td>7wff_F</td>\n",
       "      <td>0.685</td>\n",
       "      <td>735</td>\n",
       "      <td>229</td>\n",
       "      <td>0</td>\n",
       "      <td>1</td>\n",
       "      <td>729</td>\n",
       "      <td>1</td>\n",
       "      <td>735</td>\n",
       "      <td>1.666977e-320</td>\n",
       "      <td>990</td>\n",
       "    </tr>\n",
       "    <tr>\n",
       "      <th>4</th>\n",
       "      <td>Q6ENB0</td>\n",
       "      <td>6khi_F</td>\n",
       "      <td>0.442</td>\n",
       "      <td>717</td>\n",
       "      <td>355</td>\n",
       "      <td>0</td>\n",
       "      <td>1</td>\n",
       "      <td>717</td>\n",
       "      <td>1</td>\n",
       "      <td>638</td>\n",
       "      <td>3.163000e-173</td>\n",
       "      <td>563</td>\n",
       "    </tr>\n",
       "  </tbody>\n",
       "</table>\n",
       "</div>"
      ],
      "text/plain": [
       "  EntryID cluster   col3  col4  col5  col6  col7  col8  col9  col10   \n",
       "0  Q6ENB0  7f9o_Q  0.931   735    50     0     1   730    43    777  \\\n",
       "1  Q6ENB0  7eu3_F  0.931   735    50     0     1   730    43    777   \n",
       "2  Q6ENB0  7wg5_F  0.685   735   229     0     1   729     1    735   \n",
       "3  Q6ENB0  7wff_F  0.685   735   229     0     1   729     1    735   \n",
       "4  Q6ENB0  6khi_F  0.442   717   355     0     1   717     1    638   \n",
       "\n",
       "          Evalue  bitscore  \n",
       "0   0.000000e+00      1354  \n",
       "1   0.000000e+00      1354  \n",
       "2  1.666977e-320       990  \n",
       "3  1.666977e-320       990  \n",
       "4  3.163000e-173       563  "
      ]
     },
     "execution_count": 3,
     "metadata": {},
     "output_type": "execute_result"
    }
   ],
   "source": [
    "# os.chdir('./preprocessing')\n",
    "#(1,2) identifiers for query and target sequences/profiles, (3) sequence identity, \n",
    "#(4) alignment length, (5) number of mismatches, (6) number of gap openings, \n",
    "#(7-8, 9-10) domain start and end-position in query and in target, (11) E-value, and (12) bit score.\n",
    "alnRes = dd.read_csv('./data/alnRes.m8',sep='\\t',header=None)\n",
    "alnRes.columns = ['EntryID', 'cluster', 'col3', 'col4', 'col5', 'col6', 'col7', 'col8', 'col9', 'col10', 'Evalue', 'bitscore']\n",
    "\n",
    "alnRes.head(5)"
   ]
  },
  {
   "cell_type": "code",
   "execution_count": 3,
   "metadata": {},
   "outputs": [
    {
     "data": {
      "text/html": [
       "<div>\n",
       "<style scoped>\n",
       "    .dataframe tbody tr th:only-of-type {\n",
       "        vertical-align: middle;\n",
       "    }\n",
       "\n",
       "    .dataframe tbody tr th {\n",
       "        vertical-align: top;\n",
       "    }\n",
       "\n",
       "    .dataframe thead th {\n",
       "        text-align: right;\n",
       "    }\n",
       "</style>\n",
       "<table border=\"1\" class=\"dataframe\">\n",
       "  <thead>\n",
       "    <tr style=\"text-align: right;\">\n",
       "      <th></th>\n",
       "      <th>col3</th>\n",
       "      <th>col4</th>\n",
       "      <th>col5</th>\n",
       "      <th>col6</th>\n",
       "      <th>col7</th>\n",
       "      <th>col8</th>\n",
       "      <th>col9</th>\n",
       "      <th>col10</th>\n",
       "      <th>Evalue</th>\n",
       "      <th>bitscore</th>\n",
       "    </tr>\n",
       "  </thead>\n",
       "  <tbody>\n",
       "    <tr>\n",
       "      <th>count</th>\n",
       "      <td>1.378189e+07</td>\n",
       "      <td>1.378189e+07</td>\n",
       "      <td>1.378189e+07</td>\n",
       "      <td>13781891.0</td>\n",
       "      <td>1.378189e+07</td>\n",
       "      <td>1.378189e+07</td>\n",
       "      <td>1.378189e+07</td>\n",
       "      <td>1.378189e+07</td>\n",
       "      <td>1.378189e+07</td>\n",
       "      <td>1.378189e+07</td>\n",
       "    </tr>\n",
       "    <tr>\n",
       "      <th>mean</th>\n",
       "      <td>4.587226e-01</td>\n",
       "      <td>2.839119e+02</td>\n",
       "      <td>1.482073e+02</td>\n",
       "      <td>0.0</td>\n",
       "      <td>1.857246e+02</td>\n",
       "      <td>4.644306e+02</td>\n",
       "      <td>5.242068e+01</td>\n",
       "      <td>3.282708e+02</td>\n",
       "      <td>1.286453e-05</td>\n",
       "      <td>2.293885e+02</td>\n",
       "    </tr>\n",
       "    <tr>\n",
       "      <th>std</th>\n",
       "      <td>2.129429e-01</td>\n",
       "      <td>2.499623e+02</td>\n",
       "      <td>1.467580e+02</td>\n",
       "      <td>0.0</td>\n",
       "      <td>5.471455e+02</td>\n",
       "      <td>5.928421e+02</td>\n",
       "      <td>1.743324e+02</td>\n",
       "      <td>3.059957e+02</td>\n",
       "      <td>7.926572e-05</td>\n",
       "      <td>2.929405e+02</td>\n",
       "    </tr>\n",
       "    <tr>\n",
       "      <th>min</th>\n",
       "      <td>1.650000e-01</td>\n",
       "      <td>1.300000e+01</td>\n",
       "      <td>0.000000e+00</td>\n",
       "      <td>0.0</td>\n",
       "      <td>1.000000e+00</td>\n",
       "      <td>1.500000e+01</td>\n",
       "      <td>1.000000e+00</td>\n",
       "      <td>1.500000e+01</td>\n",
       "      <td>0.000000e+00</td>\n",
       "      <td>3.600000e+01</td>\n",
       "    </tr>\n",
       "    <tr>\n",
       "      <th>30%</th>\n",
       "      <td>3.190000e-01</td>\n",
       "      <td>1.600000e+02</td>\n",
       "      <td>6.800000e+01</td>\n",
       "      <td>0.0</td>\n",
       "      <td>1.700000e+01</td>\n",
       "      <td>2.480000e+02</td>\n",
       "      <td>4.000000e+00</td>\n",
       "      <td>1.820000e+02</td>\n",
       "      <td>6.822000e-65</td>\n",
       "      <td>9.000000e+01</td>\n",
       "    </tr>\n",
       "    <tr>\n",
       "      <th>50%</th>\n",
       "      <td>3.830000e-01</td>\n",
       "      <td>2.410000e+02</td>\n",
       "      <td>1.240000e+02</td>\n",
       "      <td>0.0</td>\n",
       "      <td>4.600000e+01</td>\n",
       "      <td>3.560000e+02</td>\n",
       "      <td>1.100000e+01</td>\n",
       "      <td>2.750000e+02</td>\n",
       "      <td>6.366000e-36</td>\n",
       "      <td>1.460000e+02</td>\n",
       "    </tr>\n",
       "    <tr>\n",
       "      <th>max</th>\n",
       "      <td>1.000000e+00</td>\n",
       "      <td>5.332000e+03</td>\n",
       "      <td>3.559000e+03</td>\n",
       "      <td>0.0</td>\n",
       "      <td>3.527700e+04</td>\n",
       "      <td>3.537500e+04</td>\n",
       "      <td>4.865000e+03</td>\n",
       "      <td>5.148000e+03</td>\n",
       "      <td>9.999000e-04</td>\n",
       "      <td>1.046800e+04</td>\n",
       "    </tr>\n",
       "  </tbody>\n",
       "</table>\n",
       "</div>"
      ],
      "text/plain": [
       "               col3          col4          col5        col6          col7   \n",
       "count  1.378189e+07  1.378189e+07  1.378189e+07  13781891.0  1.378189e+07  \\\n",
       "mean   4.587226e-01  2.839119e+02  1.482073e+02         0.0  1.857246e+02   \n",
       "std    2.129429e-01  2.499623e+02  1.467580e+02         0.0  5.471455e+02   \n",
       "min    1.650000e-01  1.300000e+01  0.000000e+00         0.0  1.000000e+00   \n",
       "30%    3.190000e-01  1.600000e+02  6.800000e+01         0.0  1.700000e+01   \n",
       "50%    3.830000e-01  2.410000e+02  1.240000e+02         0.0  4.600000e+01   \n",
       "max    1.000000e+00  5.332000e+03  3.559000e+03         0.0  3.527700e+04   \n",
       "\n",
       "               col8          col9         col10        Evalue      bitscore  \n",
       "count  1.378189e+07  1.378189e+07  1.378189e+07  1.378189e+07  1.378189e+07  \n",
       "mean   4.644306e+02  5.242068e+01  3.282708e+02  1.286453e-05  2.293885e+02  \n",
       "std    5.928421e+02  1.743324e+02  3.059957e+02  7.926572e-05  2.929405e+02  \n",
       "min    1.500000e+01  1.000000e+00  1.500000e+01  0.000000e+00  3.600000e+01  \n",
       "30%    2.480000e+02  4.000000e+00  1.820000e+02  6.822000e-65  9.000000e+01  \n",
       "50%    3.560000e+02  1.100000e+01  2.750000e+02  6.366000e-36  1.460000e+02  \n",
       "max    3.537500e+04  4.865000e+03  5.148000e+03  9.999000e-04  1.046800e+04  "
      ]
     },
     "execution_count": 3,
     "metadata": {},
     "output_type": "execute_result"
    }
   ],
   "source": [
    "alnRes.compute().describe([.30])"
   ]
  },
  {
   "cell_type": "code",
   "execution_count": 4,
   "metadata": {},
   "outputs": [
    {
     "name": "stdout",
     "output_type": "stream",
     "text": [
      "add clusters: 570450\n",
      "Entry: 112542\n"
     ]
    }
   ],
   "source": [
    "alnRes_clu = alnRes.cluster.unique().compute().size\n",
    "print(\"add clusters:\",alnRes_clu)\n",
    "alnRes_entry = alnRes.EntryID.unique().compute().size\n",
    "print(\"Entry:\",alnRes_entry)"
   ]
  },
  {
   "attachments": {},
   "cell_type": "markdown",
   "metadata": {},
   "source": [
    "## read-in kaggle train_terms for expanding"
   ]
  },
  {
   "cell_type": "code",
   "execution_count": 5,
   "metadata": {
    "tags": []
   },
   "outputs": [
    {
     "name": "stdout",
     "output_type": "stream",
     "text": [
      "add GO terms 31466\n"
     ]
    }
   ],
   "source": [
    "train_terms = dd.read_csv('./data/train_terms.tsv',sep='\\t')\n",
    "print('add GO terms',train_terms.term.unique().compute().size)"
   ]
  },
  {
   "cell_type": "code",
   "execution_count": 6,
   "metadata": {
    "tags": []
   },
   "outputs": [
    {
     "data": {
      "text/plain": [
       "31466"
      ]
     },
     "execution_count": 6,
     "metadata": {},
     "output_type": "execute_result"
    }
   ],
   "source": [
    "GOBPO = list(np.load('./data/train_targets_BPO_top21285.npy',allow_pickle=True))\n",
    "GOCCO = list(np.load('./data/train_targets_CCO_top2957.npy',allow_pickle=True))\n",
    "GOMFO = list(np.load('./data/train_targets_MFO_top7224.npy',allow_pickle=True))\n",
    "GOs = GOBPO + GOCCO + GOMFO\n",
    "len(GOs)"
   ]
  },
  {
   "cell_type": "code",
   "execution_count": 7,
   "metadata": {},
   "outputs": [],
   "source": [
    "train_terms = train_terms[train_terms['term'].isin(GOs)]"
   ]
  },
  {
   "attachments": {},
   "cell_type": "markdown",
   "metadata": {},
   "source": [
    "## Apply filters"
   ]
  },
  {
   "cell_type": "code",
   "execution_count": 8,
   "metadata": {},
   "outputs": [],
   "source": [
    "alnRes = alnRes[alnRes['Evalue']<1e-6]"
   ]
  },
  {
   "cell_type": "code",
   "execution_count": 4,
   "metadata": {
    "scrolled": true,
    "tags": []
   },
   "outputs": [],
   "source": [
    "if Count_GO:\n",
    "    try:\n",
    "        clu_go_count = dd.read_csv('./data/clu_go_count_all.csv')\n",
    "        clu_go_count = clu_go_count.compute()\n",
    "    except:\n",
    "        merged_clu = dd.merge(alnRes, train_terms, on='EntryID',how='left')\n",
    "        clu_go_count = merged_clu.groupby(['cluster', 'term']).size().reset_index().rename(columns={0: 'freq'})\n",
    "        clu_go_count = clu_go_count.compute()\n",
    "        clu_go_count.to_csv('clu_go_count_all.csv')"
   ]
  },
  {
   "cell_type": "code",
   "execution_count": 7,
   "metadata": {},
   "outputs": [
    {
     "name": "stdout",
     "output_type": "stream",
     "text": [
      "add clusters: 560066\n",
      "add terms: 30453\n"
     ]
    }
   ],
   "source": [
    "if Count_GO:\n",
    "    clu_annot = clu_go_count.cluster.unique().size\n",
    "    print('add clusters:',clu_annot)\n",
    "    term_annot = clu_go_count.term.unique().size\n",
    "    print('add terms:', term_annot)"
   ]
  },
  {
   "cell_type": "code",
   "execution_count": 5,
   "metadata": {},
   "outputs": [
    {
     "name": "stdout",
     "output_type": "stream",
     "text": [
      "del clusters: 549338\n",
      "del clusters: 557660\n",
      "add terms: 16376\n",
      "add terms: 9676\n",
      "         Unnamed: 0          freq\n",
      "count  6.718676e+07  6.718676e+07\n",
      "mean   5.013073e+07  6.755435e+00\n",
      "std    3.372147e+07  1.221350e+01\n",
      "min    6.000000e+00  2.000000e+00\n",
      "25%    2.159522e+07  2.000000e+00\n",
      "50%    4.526052e+07  3.000000e+00\n",
      "75%    7.485525e+07  7.000000e+00\n",
      "max    1.396529e+08  7.680000e+02\n",
      "         Unnamed: 0          freq\n",
      "count  4.398507e+07  4.398507e+07\n",
      "mean   4.036014e+07  9.263881e+00\n",
      "std    2.884000e+07  1.447874e+01\n",
      "min    6.000000e+00  3.000000e+00\n",
      "25%    1.672544e+07  3.000000e+00\n",
      "50%    3.488898e+07  5.000000e+00\n",
      "75%    5.965619e+07  9.000000e+00\n",
      "max    1.396448e+08  7.680000e+02\n"
     ]
    }
   ],
   "source": [
    "if Count_GO:\n",
    "    print('del clusters:',clu_go_count[clu_go_count.freq<=1].cluster.unique().size)\n",
    "    print('del clusters:',clu_go_count[clu_go_count.freq<=2].cluster.unique().size)\n",
    "    print('add terms:',clu_go_count[clu_go_count.freq>2].term.unique().size)\n",
    "    print('add terms:',clu_go_count[clu_go_count.freq>5].term.unique().size)\n",
    "    \n",
    "    print(clu_go_count[(clu_go_count.freq>1)&(~clu_go_count.term.isin(root_terms))].describe())\n",
    "    print(clu_go_count[(clu_go_count.freq>2)&(~clu_go_count.term.isin(root_terms))].describe())"
   ]
  },
  {
   "cell_type": "code",
   "execution_count": null,
   "metadata": {
    "tags": []
   },
   "outputs": [],
   "source": [
    "if E_filter:    \n",
    "    # Group the data by the id column\n",
    "    result = alnRes[alnRes['Evalue']<1e-6]\n",
    "    grouped = result.groupby('cluster')\n",
    "\n",
    "    # Define a function to get the two rows with the smallest values in column 10 for each group\n",
    "    def get_smallest_two(group):\n",
    "        return group.nsmallest(5, 'Evalue')\n",
    "    print('filter')\n",
    "    # Apply the function to each group\n",
    "\n",
    "    result = grouped.apply(get_smallest_two, meta=result)\n",
    "\n",
    "    # Reset the index\n",
    "    result = result.compute()\n",
    "\n",
    "    result = result.reset_index(drop=True)\n",
    "    # Display the result\n",
    "    # print(result)\n",
    "    result.describe([.30])"
   ]
  },
  {
   "cell_type": "code",
   "execution_count": 7,
   "metadata": {},
   "outputs": [],
   "source": [
    "if E_filter:\n",
    "    result.to_csv('./data/alnRes_5byCLU.csv')"
   ]
  },
  {
   "cell_type": "code",
   "execution_count": null,
   "metadata": {
    "tags": []
   },
   "outputs": [
    {
     "name": "stdout",
     "output_type": "stream",
     "text": [
      "add clusters: 560066\n",
      "del clusters: 10384\n",
      "Entry: 70669\n",
      "del Entry: 41873\n"
     ]
    }
   ],
   "source": [
    "if E_filter:\n",
    "    filter_clu = result.col1.unique().size\n",
    "    print(\"add clusters:\",filter_clu)\n",
    "    print('del clusters:',alnRes_clu-filter_clu)\n",
    "    filter_entry = result.EntryID.unique().size\n",
    "    print(\"Entry:\",filter_entry)\n",
    "    print('del Entry:',alnRes_entry-filter_entry)"
   ]
  },
  {
   "cell_type": "code",
   "execution_count": 15,
   "metadata": {},
   "outputs": [
    {
     "name": "stderr",
     "output_type": "stream",
     "text": [
      "2023-06-18 04:46:52,408 - distributed.worker.memory - WARNING - Unmanaged memory use is high. This may indicate a memory leak or the memory may not be released to the OS; see https://distributed.dask.org/en/latest/worker-memory.html#memory-not-released-back-to-the-os for more information. -- Unmanaged memory: 804.34 MiB -- Worker memory limit: 1.06 GiB\n",
      "2023-06-18 04:46:52,491 - distributed.worker.memory - WARNING - Unmanaged memory use is high. This may indicate a memory leak or the memory may not be released to the OS; see https://distributed.dask.org/en/latest/worker-memory.html#memory-not-released-back-to-the-os for more information. -- Unmanaged memory: 806.05 MiB -- Worker memory limit: 1.06 GiB\n",
      "2023-06-18 04:46:52,573 - distributed.worker.memory - WARNING - Worker is at 80% memory usage. Pausing worker.  Process memory: 869.71 MiB -- Worker memory limit: 1.06 GiB\n",
      "2023-06-18 04:46:52,574 - distributed.worker.memory - WARNING - Unmanaged memory use is high. This may indicate a memory leak or the memory may not be released to the OS; see https://distributed.dask.org/en/latest/worker-memory.html#memory-not-released-back-to-the-os for more information. -- Unmanaged memory: 869.71 MiB -- Worker memory limit: 1.06 GiB\n",
      "2023-06-18 04:46:52,687 - distributed.worker.memory - WARNING - Worker is at 57% memory usage. Resuming worker. Process memory: 627.67 MiB -- Worker memory limit: 1.06 GiB\n",
      "2023-06-18 04:46:52,725 - distributed.worker.memory - WARNING - Worker is at 87% memory usage. Pausing worker.  Process memory: 0.93 GiB -- Worker memory limit: 1.06 GiB\n",
      "2023-06-18 04:46:52,796 - distributed.worker.memory - WARNING - Worker is at 45% memory usage. Resuming worker. Process memory: 491.26 MiB -- Worker memory limit: 1.06 GiB\n"
     ]
    },
    {
     "data": {
      "text/html": [
       "<div>\n",
       "<style scoped>\n",
       "    .dataframe tbody tr th:only-of-type {\n",
       "        vertical-align: middle;\n",
       "    }\n",
       "\n",
       "    .dataframe tbody tr th {\n",
       "        vertical-align: top;\n",
       "    }\n",
       "\n",
       "    .dataframe thead th {\n",
       "        text-align: right;\n",
       "    }\n",
       "</style>\n",
       "<table border=\"1\" class=\"dataframe\">\n",
       "  <thead>\n",
       "    <tr style=\"text-align: right;\">\n",
       "      <th></th>\n",
       "      <th>col2</th>\n",
       "      <th>col3</th>\n",
       "      <th>col4</th>\n",
       "      <th>col5</th>\n",
       "      <th>col6</th>\n",
       "      <th>col7</th>\n",
       "      <th>col8</th>\n",
       "      <th>col9</th>\n",
       "      <th>col10</th>\n",
       "      <th>col11</th>\n",
       "    </tr>\n",
       "  </thead>\n",
       "  <tbody>\n",
       "    <tr>\n",
       "      <th>count</th>\n",
       "      <td>4.429860e+06</td>\n",
       "      <td>4.429860e+06</td>\n",
       "      <td>4.429860e+06</td>\n",
       "      <td>4429860.0</td>\n",
       "      <td>4.429860e+06</td>\n",
       "      <td>4.429860e+06</td>\n",
       "      <td>4.429860e+06</td>\n",
       "      <td>4.429860e+06</td>\n",
       "      <td>4.429860e+06</td>\n",
       "      <td>4.429860e+06</td>\n",
       "    </tr>\n",
       "    <tr>\n",
       "      <th>mean</th>\n",
       "      <td>6.287138e-01</td>\n",
       "      <td>4.303339e+02</td>\n",
       "      <td>1.762776e+02</td>\n",
       "      <td>0.0</td>\n",
       "      <td>1.196980e+02</td>\n",
       "      <td>5.446187e+02</td>\n",
       "      <td>3.089267e+01</td>\n",
       "      <td>4.528418e+02</td>\n",
       "      <td>6.994112e-63</td>\n",
       "      <td>4.803307e+02</td>\n",
       "    </tr>\n",
       "    <tr>\n",
       "      <th>std</th>\n",
       "      <td>2.296400e-01</td>\n",
       "      <td>3.531053e+02</td>\n",
       "      <td>2.143038e+02</td>\n",
       "      <td>0.0</td>\n",
       "      <td>3.997497e+02</td>\n",
       "      <td>5.335888e+02</td>\n",
       "      <td>1.406221e+02</td>\n",
       "      <td>3.862059e+02</td>\n",
       "      <td>5.869817e-62</td>\n",
       "      <td>4.109411e+02</td>\n",
       "    </tr>\n",
       "    <tr>\n",
       "      <th>min</th>\n",
       "      <td>1.910000e-01</td>\n",
       "      <td>8.400000e+01</td>\n",
       "      <td>0.000000e+00</td>\n",
       "      <td>0.0</td>\n",
       "      <td>1.000000e+00</td>\n",
       "      <td>8.400000e+01</td>\n",
       "      <td>1.000000e+00</td>\n",
       "      <td>8.400000e+01</td>\n",
       "      <td>0.000000e+00</td>\n",
       "      <td>2.050000e+02</td>\n",
       "    </tr>\n",
       "    <tr>\n",
       "      <th>30%</th>\n",
       "      <td>4.550000e-01</td>\n",
       "      <td>2.780000e+02</td>\n",
       "      <td>5.900000e+01</td>\n",
       "      <td>0.0</td>\n",
       "      <td>4.000000e+00</td>\n",
       "      <td>3.290000e+02</td>\n",
       "      <td>2.000000e+00</td>\n",
       "      <td>2.880000e+02</td>\n",
       "      <td>1.752000e-153</td>\n",
       "      <td>2.890000e+02</td>\n",
       "    </tr>\n",
       "    <tr>\n",
       "      <th>50%</th>\n",
       "      <td>5.800000e-01</td>\n",
       "      <td>3.510000e+02</td>\n",
       "      <td>1.340000e+02</td>\n",
       "      <td>0.0</td>\n",
       "      <td>2.200000e+01</td>\n",
       "      <td>4.280000e+02</td>\n",
       "      <td>5.000000e+00</td>\n",
       "      <td>3.630000e+02</td>\n",
       "      <td>6.183000e-109</td>\n",
       "      <td>3.650000e+02</td>\n",
       "    </tr>\n",
       "    <tr>\n",
       "      <th>max</th>\n",
       "      <td>1.000000e+00</td>\n",
       "      <td>5.332000e+03</td>\n",
       "      <td>3.559000e+03</td>\n",
       "      <td>0.0</td>\n",
       "      <td>3.314700e+04</td>\n",
       "      <td>3.356700e+04</td>\n",
       "      <td>4.714000e+03</td>\n",
       "      <td>5.148000e+03</td>\n",
       "      <td>1.000000e-60</td>\n",
       "      <td>1.046800e+04</td>\n",
       "    </tr>\n",
       "  </tbody>\n",
       "</table>\n",
       "</div>"
      ],
      "text/plain": [
       "               col2          col3          col4       col5          col6   \n",
       "count  4.429860e+06  4.429860e+06  4.429860e+06  4429860.0  4.429860e+06  \\\n",
       "mean   6.287138e-01  4.303339e+02  1.762776e+02        0.0  1.196980e+02   \n",
       "std    2.296400e-01  3.531053e+02  2.143038e+02        0.0  3.997497e+02   \n",
       "min    1.910000e-01  8.400000e+01  0.000000e+00        0.0  1.000000e+00   \n",
       "30%    4.550000e-01  2.780000e+02  5.900000e+01        0.0  4.000000e+00   \n",
       "50%    5.800000e-01  3.510000e+02  1.340000e+02        0.0  2.200000e+01   \n",
       "max    1.000000e+00  5.332000e+03  3.559000e+03        0.0  3.314700e+04   \n",
       "\n",
       "               col7          col8          col9          col10         col11  \n",
       "count  4.429860e+06  4.429860e+06  4.429860e+06   4.429860e+06  4.429860e+06  \n",
       "mean   5.446187e+02  3.089267e+01  4.528418e+02   6.994112e-63  4.803307e+02  \n",
       "std    5.335888e+02  1.406221e+02  3.862059e+02   5.869817e-62  4.109411e+02  \n",
       "min    8.400000e+01  1.000000e+00  8.400000e+01   0.000000e+00  2.050000e+02  \n",
       "30%    3.290000e+02  2.000000e+00  2.880000e+02  1.752000e-153  2.890000e+02  \n",
       "50%    4.280000e+02  5.000000e+00  3.630000e+02  6.183000e-109  3.650000e+02  \n",
       "max    3.356700e+04  4.714000e+03  5.148000e+03   1.000000e-60  1.046800e+04  "
      ]
     },
     "execution_count": 15,
     "metadata": {},
     "output_type": "execute_result"
    }
   ],
   "source": [
    "if E_filter:  \n",
    "    result2 = alnRes[alnRes['Evalue']<=1e-60]\n",
    "    result2.compute().describe([.30])"
   ]
  },
  {
   "cell_type": "code",
   "execution_count": 6,
   "metadata": {
    "tags": []
   },
   "outputs": [],
   "source": [
    "# result = pd.read_csv('./data/alnRes_2byCLU.csv',sep='\\t')\n",
    "# result.describe()"
   ]
  },
  {
   "cell_type": "code",
   "execution_count": 7,
   "metadata": {},
   "outputs": [
    {
     "name": "stdout",
     "output_type": "stream",
     "text": [
      "fluster_clus: 405560\n",
      "fluster_Entry: 70827\n"
     ]
    }
   ],
   "source": [
    "if E_filter:  \n",
    "    fluster_clu = result2.col1.unique().compute().size\n",
    "    print(\"fluster_clus:\",fluster_clu)\n",
    "    fluster_entry = result2.EntryID.unique().compute().size\n",
    "    print(\"fluster_Entry:\",fluster_entry)"
   ]
  },
  {
   "cell_type": "code",
   "execution_count": 8,
   "metadata": {},
   "outputs": [
    {
     "name": "stdout",
     "output_type": "stream",
     "text": [
      "del clusters: 164890\n",
      "del Entry: 41715\n"
     ]
    }
   ],
   "source": [
    "if E_filter:  \n",
    "    print('del clusters:',alnRes_clu-fluster_clu)\n",
    "    print('del Entry:',alnRes_entry-fluster_entry)"
   ]
  },
  {
   "cell_type": "code",
   "execution_count": 7,
   "metadata": {},
   "outputs": [],
   "source": [
    "if E_filter:  \n",
    "    train_chain_go = pd.merge(result[['EntryID','cluster']], train_terms[['EntryID', 'term']],how='left')\n",
    "if Count_GO:\n",
    "    train_chain_go = clu_go_count[clu_go_count.freq>2][['cluster', 'term']]"
   ]
  },
  {
   "cell_type": "code",
   "execution_count": 8,
   "metadata": {},
   "outputs": [
    {
     "data": {
      "text/html": [
       "<div>\n",
       "<style scoped>\n",
       "    .dataframe tbody tr th:only-of-type {\n",
       "        vertical-align: middle;\n",
       "    }\n",
       "\n",
       "    .dataframe tbody tr th {\n",
       "        vertical-align: top;\n",
       "    }\n",
       "\n",
       "    .dataframe thead th {\n",
       "        text-align: right;\n",
       "    }\n",
       "</style>\n",
       "<table border=\"1\" class=\"dataframe\">\n",
       "  <thead>\n",
       "    <tr style=\"text-align: right;\">\n",
       "      <th></th>\n",
       "      <th>PDB</th>\n",
       "      <th>CHAIN</th>\n",
       "      <th>SP_PRIMARY</th>\n",
       "      <th>WITH_STRING</th>\n",
       "      <th>EVIDENCE</th>\n",
       "      <th>GO_ID</th>\n",
       "    </tr>\n",
       "  </thead>\n",
       "  <tbody>\n",
       "    <tr>\n",
       "      <th>0</th>\n",
       "      <td>101m</td>\n",
       "      <td>A</td>\n",
       "      <td>P02185</td>\n",
       "      <td>UniProtKB-KW:KW-0479</td>\n",
       "      <td>IEA</td>\n",
       "      <td>GO:0046872</td>\n",
       "    </tr>\n",
       "    <tr>\n",
       "      <th>1</th>\n",
       "      <td>101m</td>\n",
       "      <td>A</td>\n",
       "      <td>P02185</td>\n",
       "      <td>UniProtKB-KW:KW-0561</td>\n",
       "      <td>IEA</td>\n",
       "      <td>GO:0005344</td>\n",
       "    </tr>\n",
       "    <tr>\n",
       "      <th>2</th>\n",
       "      <td>101m</td>\n",
       "      <td>A</td>\n",
       "      <td>P02185</td>\n",
       "      <td>UniProtKB-KW:KW-0561</td>\n",
       "      <td>IEA</td>\n",
       "      <td>GO:0015671</td>\n",
       "    </tr>\n",
       "    <tr>\n",
       "      <th>3</th>\n",
       "      <td>102m</td>\n",
       "      <td>A</td>\n",
       "      <td>P02185</td>\n",
       "      <td>UniProtKB-KW:KW-0479</td>\n",
       "      <td>IEA</td>\n",
       "      <td>GO:0046872</td>\n",
       "    </tr>\n",
       "    <tr>\n",
       "      <th>4</th>\n",
       "      <td>102m</td>\n",
       "      <td>A</td>\n",
       "      <td>P02185</td>\n",
       "      <td>UniProtKB-KW:KW-0561</td>\n",
       "      <td>IEA</td>\n",
       "      <td>GO:0005344</td>\n",
       "    </tr>\n",
       "  </tbody>\n",
       "</table>\n",
       "</div>"
      ],
      "text/plain": [
       "    PDB CHAIN SP_PRIMARY           WITH_STRING EVIDENCE       GO_ID\n",
       "0  101m     A     P02185  UniProtKB-KW:KW-0479      IEA  GO:0046872\n",
       "1  101m     A     P02185  UniProtKB-KW:KW-0561      IEA  GO:0005344\n",
       "2  101m     A     P02185  UniProtKB-KW:KW-0561      IEA  GO:0015671\n",
       "3  102m     A     P02185  UniProtKB-KW:KW-0479      IEA  GO:0046872\n",
       "4  102m     A     P02185  UniProtKB-KW:KW-0561      IEA  GO:0005344"
      ]
     },
     "execution_count": 8,
     "metadata": {},
     "output_type": "execute_result"
    }
   ],
   "source": [
    "old_data = pd.read_csv('./data/pdb_chain_go.tsv',sep='\\t',skiprows=1)\n",
    "old_data.head(5)"
   ]
  },
  {
   "cell_type": "code",
   "execution_count": 12,
   "metadata": {},
   "outputs": [
    {
     "name": "stdout",
     "output_type": "stream",
     "text": [
      "original clus: 418330\n"
     ]
    }
   ],
   "source": [
    "_ = old_data.PDB + old_data.CHAIN\n",
    "print('original clus:',_.unique().size)"
   ]
  },
  {
   "cell_type": "code",
   "execution_count": 13,
   "metadata": {
    "collapsed": true,
    "jupyter": {
     "outputs_hidden": true
    },
    "tags": []
   },
   "outputs": [
    {
     "ename": "AttributeError",
     "evalue": "'DataFrame' object has no attribute 'unique'",
     "output_type": "error",
     "traceback": [
      "\u001b[0;31m---------------------------------------------------------------------------\u001b[0m",
      "\u001b[0;31mAttributeError\u001b[0m                            Traceback (most recent call last)",
      "\u001b[0;32m/tmp/ipykernel_15990/809734002.py\u001b[0m in \u001b[0;36m<module>\u001b[0;34m\u001b[0m\n\u001b[0;32m----> 1\u001b[0;31m \u001b[0mprint\u001b[0m\u001b[0;34m(\u001b[0m\u001b[0;34m'add clus from fluster_clu:'\u001b[0m \u001b[0;34m,\u001b[0m\u001b[0mlen\u001b[0m\u001b[0;34m(\u001b[0m\u001b[0mset\u001b[0m\u001b[0;34m(\u001b[0m\u001b[0mresult\u001b[0m\u001b[0;34m.\u001b[0m\u001b[0mcol1\u001b[0m\u001b[0;34m.\u001b[0m\u001b[0munique\u001b[0m\u001b[0;34m(\u001b[0m\u001b[0;34m)\u001b[0m\u001b[0;34m)\u001b[0m\u001b[0;34m.\u001b[0m\u001b[0mdifference\u001b[0m\u001b[0;34m(\u001b[0m\u001b[0m_\u001b[0m\u001b[0;34m.\u001b[0m\u001b[0munique\u001b[0m\u001b[0;34m(\u001b[0m\u001b[0;34m)\u001b[0m\u001b[0;34m)\u001b[0m\u001b[0;34m)\u001b[0m\u001b[0;34m)\u001b[0m\u001b[0;34m\u001b[0m\u001b[0;34m\u001b[0m\u001b[0m\n\u001b[0m\u001b[1;32m      2\u001b[0m \u001b[0mprint\u001b[0m\u001b[0;34m(\u001b[0m\u001b[0;34m'more clus from alnRes:'\u001b[0m \u001b[0;34m,\u001b[0m\u001b[0mlen\u001b[0m\u001b[0;34m(\u001b[0m\u001b[0mset\u001b[0m\u001b[0;34m(\u001b[0m\u001b[0malnRes\u001b[0m\u001b[0;34m.\u001b[0m\u001b[0mcol1\u001b[0m\u001b[0;34m.\u001b[0m\u001b[0munique\u001b[0m\u001b[0;34m(\u001b[0m\u001b[0;34m)\u001b[0m\u001b[0;34m.\u001b[0m\u001b[0mcompute\u001b[0m\u001b[0;34m(\u001b[0m\u001b[0;34m)\u001b[0m\u001b[0;34m)\u001b[0m\u001b[0;34m.\u001b[0m\u001b[0mdifference\u001b[0m\u001b[0;34m(\u001b[0m\u001b[0m_\u001b[0m\u001b[0;34m.\u001b[0m\u001b[0munique\u001b[0m\u001b[0;34m(\u001b[0m\u001b[0;34m)\u001b[0m\u001b[0;34m)\u001b[0m\u001b[0;34m)\u001b[0m\u001b[0;34m)\u001b[0m\u001b[0;34m\u001b[0m\u001b[0;34m\u001b[0m\u001b[0m\n",
      "\u001b[0;32m~/miniconda3/lib/python3.8/site-packages/pandas/core/generic.py\u001b[0m in \u001b[0;36m__getattr__\u001b[0;34m(self, name)\u001b[0m\n\u001b[1;32m   5987\u001b[0m         ):\n\u001b[1;32m   5988\u001b[0m             \u001b[0;32mreturn\u001b[0m \u001b[0mself\u001b[0m\u001b[0;34m[\u001b[0m\u001b[0mname\u001b[0m\u001b[0;34m]\u001b[0m\u001b[0;34m\u001b[0m\u001b[0;34m\u001b[0m\u001b[0m\n\u001b[0;32m-> 5989\u001b[0;31m         \u001b[0;32mreturn\u001b[0m \u001b[0mobject\u001b[0m\u001b[0;34m.\u001b[0m\u001b[0m__getattribute__\u001b[0m\u001b[0;34m(\u001b[0m\u001b[0mself\u001b[0m\u001b[0;34m,\u001b[0m \u001b[0mname\u001b[0m\u001b[0;34m)\u001b[0m\u001b[0;34m\u001b[0m\u001b[0;34m\u001b[0m\u001b[0m\n\u001b[0m\u001b[1;32m   5990\u001b[0m \u001b[0;34m\u001b[0m\u001b[0m\n\u001b[1;32m   5991\u001b[0m     \u001b[0;32mdef\u001b[0m \u001b[0m__setattr__\u001b[0m\u001b[0;34m(\u001b[0m\u001b[0mself\u001b[0m\u001b[0;34m,\u001b[0m \u001b[0mname\u001b[0m\u001b[0;34m:\u001b[0m \u001b[0mstr\u001b[0m\u001b[0;34m,\u001b[0m \u001b[0mvalue\u001b[0m\u001b[0;34m)\u001b[0m \u001b[0;34m->\u001b[0m \u001b[0;32mNone\u001b[0m\u001b[0;34m:\u001b[0m\u001b[0;34m\u001b[0m\u001b[0;34m\u001b[0m\u001b[0m\n",
      "\u001b[0;31mAttributeError\u001b[0m: 'DataFrame' object has no attribute 'unique'"
     ]
    }
   ],
   "source": [
    "print('add clus from fluster_clu:' ,len(set(result.col1.unique().compute()).difference(_.unique())))\n",
    "print('more clus from alnRes:' ,len(set(alnRes.col1.unique().compute()).difference(_.unique())))"
   ]
  },
  {
   "cell_type": "code",
   "execution_count": 15,
   "metadata": {},
   "outputs": [
    {
     "data": {
      "text/html": [
       "<div>\n",
       "<style scoped>\n",
       "    .dataframe tbody tr th:only-of-type {\n",
       "        vertical-align: middle;\n",
       "    }\n",
       "\n",
       "    .dataframe tbody tr th {\n",
       "        vertical-align: top;\n",
       "    }\n",
       "\n",
       "    .dataframe thead th {\n",
       "        text-align: right;\n",
       "    }\n",
       "</style>\n",
       "<table border=\"1\" class=\"dataframe\">\n",
       "  <thead>\n",
       "    <tr style=\"text-align: right;\">\n",
       "      <th></th>\n",
       "      <th>PDB</th>\n",
       "      <th>CHAIN</th>\n",
       "      <th>SP_PRIMARY</th>\n",
       "      <th>WITH_STRING</th>\n",
       "      <th>EVIDENCE</th>\n",
       "      <th>GO_ID</th>\n",
       "    </tr>\n",
       "  </thead>\n",
       "  <tbody>\n",
       "    <tr>\n",
       "      <th>0</th>\n",
       "      <td>11gs</td>\n",
       "      <td>B</td>\n",
       "      <td>V9HWE9</td>\n",
       "      <td>Kaggle</td>\n",
       "      <td>train</td>\n",
       "      <td>GO:0005829</td>\n",
       "    </tr>\n",
       "    <tr>\n",
       "      <th>1</th>\n",
       "      <td>11gs</td>\n",
       "      <td>B</td>\n",
       "      <td>V9HWE9</td>\n",
       "      <td>Kaggle</td>\n",
       "      <td>train</td>\n",
       "      <td>GO:0005622</td>\n",
       "    </tr>\n",
       "    <tr>\n",
       "      <th>2</th>\n",
       "      <td>11gs</td>\n",
       "      <td>B</td>\n",
       "      <td>V9HWE9</td>\n",
       "      <td>Kaggle</td>\n",
       "      <td>train</td>\n",
       "      <td>GO:0043229</td>\n",
       "    </tr>\n",
       "    <tr>\n",
       "      <th>3</th>\n",
       "      <td>11gs</td>\n",
       "      <td>B</td>\n",
       "      <td>V9HWE9</td>\n",
       "      <td>Kaggle</td>\n",
       "      <td>train</td>\n",
       "      <td>GO:0043226</td>\n",
       "    </tr>\n",
       "    <tr>\n",
       "      <th>4</th>\n",
       "      <td>11gs</td>\n",
       "      <td>B</td>\n",
       "      <td>V9HWE9</td>\n",
       "      <td>Kaggle</td>\n",
       "      <td>train</td>\n",
       "      <td>GO:0110165</td>\n",
       "    </tr>\n",
       "  </tbody>\n",
       "</table>\n",
       "</div>"
      ],
      "text/plain": [
       "    PDB CHAIN SP_PRIMARY WITH_STRING EVIDENCE       GO_ID\n",
       "0  11gs     B     V9HWE9      Kaggle    train  GO:0005829\n",
       "1  11gs     B     V9HWE9      Kaggle    train  GO:0005622\n",
       "2  11gs     B     V9HWE9      Kaggle    train  GO:0043229\n",
       "3  11gs     B     V9HWE9      Kaggle    train  GO:0043226\n",
       "4  11gs     B     V9HWE9      Kaggle    train  GO:0110165"
      ]
     },
     "execution_count": 15,
     "metadata": {},
     "output_type": "execute_result"
    }
   ],
   "source": [
    "new_data = pd.DataFrame({\n",
    "    'PDB': train_chain_go['cluster'].str.split('_').str[0],\n",
    "    'CHAIN': train_chain_go['cluster'].str.split('_').str[1],\n",
    "    'SP_PRIMARY': 'Virtul' if Count_GO else train_chain_go['EntryID'],\n",
    "    'WITH_STRING': 'Kaggle',\n",
    "    'EVIDENCE': 'train',\n",
    "    'GO_ID': train_chain_go['term']\n",
    "})\n",
    "\n",
    "# Write the new DataFrame to a TSV file\n",
    "new_data.head(5)"
   ]
  },
  {
   "cell_type": "code",
   "execution_count": 17,
   "metadata": {},
   "outputs": [],
   "source": [
    "pdb_chain_go_new = pd.concat([old_data,new_data], axis=0)\n",
    "pdb_chain_go_new.to_csv('./data/pdb_chain_go_new_5byclu.tsv',index=False,sep='\\t')"
   ]
  }
 ],
 "metadata": {
  "kernelspec": {
   "display_name": "Python 3 (ipykernel)",
   "language": "python",
   "name": "python3"
  },
  "language_info": {
   "codemirror_mode": {
    "name": "ipython",
    "version": 3
   },
   "file_extension": ".py",
   "mimetype": "text/x-python",
   "name": "python",
   "nbconvert_exporter": "python",
   "pygments_lexer": "ipython3",
   "version": "3.8.10"
  }
 },
 "nbformat": 4,
 "nbformat_minor": 4
}
