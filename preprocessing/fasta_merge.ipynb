{
 "cells": [
  {
   "cell_type": "code",
   "execution_count": 3,
   "metadata": {},
   "outputs": [],
   "source": [
    "from create_nrPDB_GO_annot import read_fasta, load_clusters\n",
    "from biotoolbox.structure_file_reader import build_structure_container_for_pdb\n",
    "from biotoolbox.contact_map_builder import DistanceMapBuilder\n",
    "from Bio.PDB import PDBList\n",
    "import pandas as pd\n",
    "\n",
    "from functools import partial\n",
    "import numpy as np\n",
    "import argparse\n",
    "import csv\n",
    "import os\n",
    "\n",
    "def load_GO_annot(filename):\n",
    "    \"\"\" Load GO annotations \"\"\"\n",
    "    onts = ['molecular_function', 'biological_process', 'cellular_component']\n",
    "    prot2annot = {'EntryID':[],'term':[],'aspect':[]}\n",
    "    goterms = {ont: [] for ont in onts}\n",
    "    gonames = {ont: [] for ont in onts}\n",
    "    with open(filename, mode='r') as tsvfile:\n",
    "        reader = csv.reader(tsvfile, delimiter='\\t')\n",
    "\n",
    "        # molecular function\n",
    "        next(reader, None)  # skip the headers\n",
    "        goterms[onts[0]] = next(reader)\n",
    "        next(reader, None)  # skip the headers\n",
    "        gonames[onts[0]] = next(reader)\n",
    "        onts[0] = 'MFO'\n",
    "        # biological process\n",
    "        next(reader, None)  # skip the headers\n",
    "        goterms[onts[1]] = next(reader)\n",
    "        next(reader, None)  # skip the headers\n",
    "        gonames[onts[1]] = next(reader)\n",
    "        onts[1] = 'BPO'\n",
    "        # cellular component\n",
    "        next(reader, None)  # skip the headers\n",
    "        goterms[onts[2]] = next(reader)\n",
    "        next(reader, None)  # skip the headers\n",
    "        gonames[onts[2]] = next(reader)\n",
    "        onts[2] = 'CCO'\n",
    "\n",
    "        next(reader, None)  # skip the headers\n",
    "        for row in reader:\n",
    "            prot, prot_goterms = row[0], row[1:]\n",
    "            for i in range(3):\n",
    "                for goterm in prot_goterms[i].split(','):\n",
    "                    if goterm != '':\n",
    "                        prot2annot['EntryID'].append(prot)\n",
    "                        prot2annot['term'].append(goterm)\n",
    "                        prot2annot['aspect'].append(onts[i])\n",
    "    return prot2annot"
   ]
  },
  {
   "cell_type": "code",
   "execution_count": 4,
   "metadata": {},
   "outputs": [],
   "source": [
    "go_annot = pd.DataFrame(load_GO_annot('./data/CAFA1_annot.tsv'))\n",
    "go_annot.to_csv('./data/CAFA1_train_terms.tsv',index=False,sep='\\t')"
   ]
  }
 ],
 "metadata": {
  "kernelspec": {
   "display_name": "deepfri",
   "language": "python",
   "name": "python3"
  },
  "language_info": {
   "codemirror_mode": {
    "name": "ipython",
    "version": 3
   },
   "file_extension": ".py",
   "mimetype": "text/x-python",
   "name": "python",
   "nbconvert_exporter": "python",
   "pygments_lexer": "ipython3",
   "version": "3.7.9"
  },
  "orig_nbformat": 4
 },
 "nbformat": 4,
 "nbformat_minor": 2
}
